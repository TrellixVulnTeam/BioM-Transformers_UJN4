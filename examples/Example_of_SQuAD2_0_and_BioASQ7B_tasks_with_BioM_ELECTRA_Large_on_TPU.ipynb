{
  "nbformat": 4,
  "nbformat_minor": 0,
  "metadata": {
    "accelerator": "TPU",
    "colab": {
      "name": "Example of SQuAD2.0 and BioASQ7B tasks with BioM-ELECTRA-Large on TPU.ipynb",
      "provenance": [],
      "collapsed_sections": [
        "HaeOLh7_gNFK"
      ],
      "machine_shape": "hm"
    },
    "kernelspec": {
      "display_name": "Python 3",
      "name": "python3"
    }
  },
  "cells": [
    {
      "cell_type": "markdown",
      "metadata": {
        "id": "j-3L3s5fRYr8"
      },
      "source": [
        "# **Pre-Processing**"
      ]
    },
    {
      "cell_type": "code",
      "metadata": {
        "colab": {
          "base_uri": "https://localhost:8080/"
        },
        "id": "purLaK6RZWZz",
        "outputId": "9d4f439f-a506-4c8a-cdfb-13ee07caa835"
      },
      "source": [
        "!git clone https://github.com/salrowili/BioM-Transformers"
      ],
      "execution_count": null,
      "outputs": [
        {
          "output_type": "stream",
          "text": [
            "Cloning into 'BioM-Transformers'...\n",
            "remote: Enumerating objects: 51, done.\u001b[K\n",
            "remote: Counting objects: 100% (51/51), done.\u001b[K\n",
            "remote: Compressing objects: 100% (47/47), done.\u001b[K\n",
            "remote: Total 51 (delta 6), reused 44 (delta 4), pack-reused 0\u001b[K\n",
            "Unpacking objects: 100% (51/51), done.\n"
          ],
          "name": "stdout"
        }
      ]
    },
    {
      "cell_type": "code",
      "metadata": {
        "colab": {
          "base_uri": "https://localhost:8080/"
        },
        "id": "0WD6103m4hkI",
        "outputId": "ea1d0430-0f9c-4172-ee31-ca3b127bf410"
      },
      "source": [
        "!git clone https://github.com/dmis-lab/biobert\n",
        "!git clone https://github.com/BioASQ/Evaluation-Measures\n",
        "!sed -i 's/ix/iloc/g' biobert/biocodes/transform_nbset2bioasqform.py"
      ],
      "execution_count": null,
      "outputs": [
        {
          "output_type": "stream",
          "text": [
            "Cloning into 'biobert'...\n",
            "remote: Enumerating objects: 329, done.\u001b[K\n",
            "remote: Counting objects: 100% (51/51), done.\u001b[K\n",
            "remote: Compressing objects: 100% (48/48), done.\u001b[K\n",
            "remote: Total 329 (delta 28), reused 8 (delta 3), pack-reused 278\u001b[K\n",
            "Receiving objects: 100% (329/329), 507.77 KiB | 5.71 MiB/s, done.\n",
            "Resolving deltas: 100% (190/190), done.\n",
            "Cloning into 'Evaluation-Measures'...\n",
            "remote: Enumerating objects: 301, done.\u001b[K\n",
            "remote: Counting objects: 100% (33/33), done.\u001b[K\n",
            "remote: Compressing objects: 100% (30/30), done.\u001b[K\n",
            "remote: Total 301 (delta 3), reused 13 (delta 3), pack-reused 268\u001b[K\n",
            "Receiving objects: 100% (301/301), 1.92 MiB | 11.61 MiB/s, done.\n",
            "Resolving deltas: 100% (85/85), done.\n"
          ],
          "name": "stdout"
        }
      ]
    },
    {
      "cell_type": "markdown",
      "metadata": {
        "id": "kv1I8qvI0jHU"
      },
      "source": [
        "Establish the connection with TPU. All credits to ALBERT team for creating this code which can be found here https://github.com/google-research/albert/blob/master/albert_glue_fine_tuning_tutorial.ipynb"
      ]
    },
    {
      "cell_type": "code",
      "metadata": {
        "colab": {
          "base_uri": "https://localhost:8080/"
        },
        "id": "PlezCyRuIhC9",
        "outputId": "e0e73b4d-c59a-43bc-af69-105dba01cfab"
      },
      "source": [
        "%tensorflow_version 1.x\n",
        "import os\n",
        "import pprint\n",
        "import json\n",
        "import tensorflow as tf\n",
        "\n",
        "assert \"COLAB_TPU_ADDR\" in os.environ, \"ERROR: Not connected to a TPU runtime; please see the first cell in this notebook for instructions!\"\n",
        "TPU_ADDRESS = \"grpc://\" + os.environ[\"COLAB_TPU_ADDR\"] \n",
        "os.environ['TPU_ADDRESS'] =\"grpc://\" + os.environ[\"COLAB_TPU_ADDR\"] \n",
        "TPU_TOPOLOGY = \"2x2\"\n",
        "print(\"TPU address is\", TPU_ADDRESS)\n",
        "\n",
        "from google.colab import auth\n",
        "auth.authenticate_user()\n",
        "with tf.Session(TPU_ADDRESS) as session:\n",
        "  print('TPU devices:')\n",
        "  pprint.pprint(session.list_devices())\n",
        "\n",
        "  with open('/content/adc.json', 'r') as f:\n",
        "    auth_info = json.load(f)\n",
        "  tf.contrib.cloud.configure_gcs(session, credentials=auth_info)\n"
      ],
      "execution_count": null,
      "outputs": [
        {
          "output_type": "stream",
          "text": [
            "TensorFlow 1.x selected.\n",
            "TPU address is grpc://10.112.176.186:8470\n",
            "WARNING:tensorflow:\n",
            "The TensorFlow contrib module will not be included in TensorFlow 2.0.\n",
            "For more information, please see:\n",
            "  * https://github.com/tensorflow/community/blob/master/rfcs/20180907-contrib-sunset.md\n",
            "  * https://github.com/tensorflow/addons\n",
            "  * https://github.com/tensorflow/io (for I/O related ops)\n",
            "If you depend on functionality not listed there, please file an issue.\n",
            "\n",
            "TPU devices:\n",
            "[_DeviceAttributes(/job:tpu_worker/replica:0/task:0/device:CPU:0, CPU, -1, 8898500112598780179),\n",
            " _DeviceAttributes(/job:tpu_worker/replica:0/task:0/device:XLA_CPU:0, XLA_CPU, 17179869184, 10219461378284026742),\n",
            " _DeviceAttributes(/job:tpu_worker/replica:0/task:0/device:TPU:0, TPU, 17179869184, 18102823179197987179),\n",
            " _DeviceAttributes(/job:tpu_worker/replica:0/task:0/device:TPU:1, TPU, 17179869184, 11057475274047515050),\n",
            " _DeviceAttributes(/job:tpu_worker/replica:0/task:0/device:TPU:2, TPU, 17179869184, 17470700658229259392),\n",
            " _DeviceAttributes(/job:tpu_worker/replica:0/task:0/device:TPU:3, TPU, 17179869184, 3451367274227846064),\n",
            " _DeviceAttributes(/job:tpu_worker/replica:0/task:0/device:TPU:4, TPU, 17179869184, 3532509816461885788),\n",
            " _DeviceAttributes(/job:tpu_worker/replica:0/task:0/device:TPU:5, TPU, 17179869184, 12766328807059423804),\n",
            " _DeviceAttributes(/job:tpu_worker/replica:0/task:0/device:TPU:6, TPU, 17179869184, 4030700107896997183),\n",
            " _DeviceAttributes(/job:tpu_worker/replica:0/task:0/device:TPU:7, TPU, 17179869184, 10712101671389370262),\n",
            " _DeviceAttributes(/job:tpu_worker/replica:0/task:0/device:TPU_SYSTEM:0, TPU_SYSTEM, 8589934592, 8357271862687598275)]\n"
          ],
          "name": "stdout"
        }
      ]
    },
    {
      "cell_type": "markdown",
      "metadata": {
        "id": "HaeOLh7_gNFK"
      },
      "source": [
        "# **SQuAD2.0** (Skip this step if you plan to use our SQuAD checkpoint)"
      ]
    },
    {
      "cell_type": "code",
      "metadata": {
        "colab": {
          "base_uri": "https://localhost:8080/"
        },
        "id": "DvP-BBdwIQqk",
        "outputId": "42244bc6-ff6a-4b28-eecf-014f7ce354b9"
      },
      "source": [
        "!wget https://rajpurkar.github.io/SQuAD-explorer/dataset/train-v2.0.json\n",
        "!wget https://rajpurkar.github.io/SQuAD-explorer/dataset/dev-v2.0.json"
      ],
      "execution_count": null,
      "outputs": [
        {
          "output_type": "stream",
          "text": [
            "--2021-06-21 04:27:39--  https://rajpurkar.github.io/SQuAD-explorer/dataset/train-v2.0.json\n",
            "Resolving rajpurkar.github.io (rajpurkar.github.io)... 185.199.109.153, 185.199.108.153, 185.199.111.153, ...\n",
            "Connecting to rajpurkar.github.io (rajpurkar.github.io)|185.199.109.153|:443... connected.\n",
            "HTTP request sent, awaiting response... 200 OK\n",
            "Length: 42123633 (40M) [application/json]\n",
            "Saving to: ‘train-v2.0.json’\n",
            "\n",
            "train-v2.0.json     100%[===================>]  40.17M  78.7MB/s    in 0.5s    \n",
            "\n",
            "2021-06-21 04:27:40 (78.7 MB/s) - ‘train-v2.0.json’ saved [42123633/42123633]\n",
            "\n",
            "--2021-06-21 04:27:40--  https://rajpurkar.github.io/SQuAD-explorer/dataset/dev-v2.0.json\n",
            "Resolving rajpurkar.github.io (rajpurkar.github.io)... 185.199.109.153, 185.199.108.153, 185.199.111.153, ...\n",
            "Connecting to rajpurkar.github.io (rajpurkar.github.io)|185.199.109.153|:443... connected.\n",
            "HTTP request sent, awaiting response... 200 OK\n",
            "Length: 4370528 (4.2M) [application/json]\n",
            "Saving to: ‘dev-v2.0.json’\n",
            "\n",
            "dev-v2.0.json       100%[===================>]   4.17M  26.9MB/s    in 0.2s    \n",
            "\n",
            "2021-06-21 04:27:41 (26.9 MB/s) - ‘dev-v2.0.json’ saved [4370528/4370528]\n",
            "\n"
          ],
          "name": "stdout"
        }
      ]
    },
    {
      "cell_type": "code",
      "metadata": {
        "colab": {
          "base_uri": "https://localhost:8080/"
        },
        "id": "jnOEaz6IIcIr",
        "outputId": "51304f61-b9d5-4980-c682-2d901316c596"
      },
      "source": [
        "!gsutil cp  train-v2.0.json gs://biom-transformers/ELECTRA/finetuning_data/squadv2/train.json\n",
        "!gsutil cp  dev-v2.0.json gs://biom-transformers/ELECTRA/finetuning_data/squadv2/dev.json"
      ],
      "execution_count": null,
      "outputs": [
        {
          "output_type": "stream",
          "text": [
            "Copying file://train-v2.0.json [Content-Type=application/json]...\n",
            "-\n",
            "Operation completed over 1 objects/40.2 MiB.                                     \n",
            "Copying file://dev-v2.0.json [Content-Type=application/json]...\n",
            "/ [1 files][  4.2 MiB/  4.2 MiB]                                                \n",
            "Operation completed over 1 objects/4.2 MiB.                                      \n"
          ],
          "name": "stdout"
        }
      ]
    },
    {
      "cell_type": "code",
      "metadata": {
        "colab": {
          "background_save": true,
          "base_uri": "https://localhost:8080/"
        },
        "id": "T1D_4hD91HLf",
        "outputId": "8e519c46-53aa-44dc-ee9d-8b13460ae351"
      },
      "source": [
        "!python BioM-Transformers/electra/run_finetuning.py --data-dir gs://biom-transformers/ELECTRA/ --model-name ELECTRA-SQuAD2.0-Large --hparams '{\"model_size\": \"large\", \"task_names\": [\"squad\"],\"do_train\":true,\"do_eval\":true,\"evaluate_bioasq\":false,\"vocab_file\":\"gs://biom-transformers/ELECTRA/models/BioM-ELECTRA-Large-TF/vocab.txt\",\"vocab_size\":28895,\"init_checkpoint\":\"gs://biom-transformers/ELECTRA/models/BioM-ELECTRA-Large-TF/model.ckpt-434200\",\"num_tpu_cores\":8,\"use_tpu\":true,\"tpu_name\":\"'$TPU_ADDRESS'\",\"save_checkpoints_steps\":2000}'"
      ],
      "execution_count": null,
      "outputs": [
        {
          "output_type": "stream",
          "text": [
            "================================================================================\n",
            "Config: model=ELECTRA-SQuAD2.0-Large, trial 1/1\n",
            "================================================================================\n",
            "answerable_classifier True\n",
            "answerable_uses_start_logits True\n",
            "answerable_weight 0.5\n",
            "beam_size 20\n",
            "data_dir gs://biom-transformers/ELECTRA/\n",
            "debug False\n",
            "do_eval True\n",
            "do_lower_case True\n",
            "do_test False\n",
            "do_train True\n",
            "doc_stride 128\n",
            "double_unordered True\n",
            "embedding_size None\n",
            "eval_batch_size 32\n",
            "evaluate_bioasq False\n",
            "gcp_project None\n",
            "init_checkpoint gs://biom-transformers/ELECTRA/models/BioM-ELECTRA-Large-TF/model.ckpt-434200\n",
            "iterations_per_loop 1000\n",
            "joint_prediction True\n",
            "keep_all_models True\n",
            "layerwise_lr_decay 0.9\n",
            "learning_rate 5e-05\n",
            "log_examples False\n",
            "max_answer_length 30\n",
            "max_query_length 64\n",
            "max_seq_length 512\n",
            "model_dir gs://biom-transformers/ELECTRA/models/ELECTRA-SQuAD2.0-Large/finetuning_models/squad_model\n",
            "model_hparam_overrides {}\n",
            "model_name ELECTRA-SQuAD2.0-Large\n",
            "model_size large\n",
            "n_best_size 20\n",
            "n_writes_test 5\n",
            "num_tpu_cores 8\n",
            "num_train_epochs 2.0\n",
            "num_trials 1\n",
            "predict_batch_size 32\n",
            "preprocessed_data_dir gs://biom-transformers/ELECTRA/models/ELECTRA-SQuAD2.0-Large/finetuning_tfrecords/squad_tfrecords\n",
            "qa_eval_file <built-in method format of str object at 0x7fd162ce4c00>\n",
            "qa_na_file <built-in method format of str object at 0x7fd1731ed8f0>\n",
            "qa_na_threshold -2.75\n",
            "qa_nbest_file <built-in method format of str object at 0x7fd162ce4d20>\n",
            "qa_preds_file <built-in method format of str object at 0x7fd162ce4c90>\n",
            "raw_data_dir <built-in method format of str object at 0x7fd162c60960>\n",
            "results_pkl gs://biom-transformers/ELECTRA/models/ELECTRA-SQuAD2.0-Large/results/squad_results.pkl\n",
            "results_txt gs://biom-transformers/ELECTRA/models/ELECTRA-SQuAD2.0-Large/results/squad_results.txt\n",
            "save_checkpoints_steps 2000\n",
            "task_names ['squad']\n",
            "test_predictions <built-in method format of str object at 0x7fd1731edc10>\n",
            "tpu_job_name None\n",
            "tpu_name grpc://10.85.90.154:8470\n",
            "tpu_zone None\n",
            "train_batch_size 32\n",
            "use_tfrecords_if_existing True\n",
            "use_tpu True\n",
            "vocab_file gs://biom-transformers/ELECTRA/models/BioM-ELECTRA-Large-TF/vocab.txt\n",
            "vocab_size 28895\n",
            "warmup_proportion 0.1\n",
            "weight_decay_rate 0.01\n",
            "write_distill_outputs False\n",
            "write_test_outputs False\n",
            "\n",
            "Loading dataset squad_train\n",
            "================================================================================\n",
            "Start training: model=ELECTRA-SQuAD2.0-Large, trial 1/1\n",
            "================================================================================\n",
            "Training for 8186 steps\n",
            "2021-06-21 04:29:44.279982: W tensorflow/core/distributed_runtime/rpc/grpc_session.cc:370] GrpcSession::ListDevices will initialize the session with an empty graph and other defaults because the session has not yet been created.\n",
            "2021-06-21 04:29:44.422201: I tensorflow/stream_executor/platform/default/dso_loader.cc:44] Successfully opened dynamic library libcuda.so.1\n",
            "2021-06-21 04:29:44.431684: E tensorflow/stream_executor/cuda/cuda_driver.cc:318] failed call to cuInit: CUDA_ERROR_NO_DEVICE: no CUDA-capable device is detected\n",
            "2021-06-21 04:29:44.431726: I tensorflow/stream_executor/cuda/cuda_diagnostics.cc:156] kernel driver does not appear to be running on this host (d5f62f54b165): /proc/driver/nvidia/version does not exist\n",
            "Building model...\n",
            "Building complete\n",
            "2021-06-21 04:31:52.541865: W tensorflow/core/distributed_runtime/rpc/grpc_session.cc:370] GrpcSession::ListDevices will initialize the session with an empty graph and other defaults because the session has not yet been created.\n",
            "1000/8186 = 12.2%, SPS: 1.9, ELAP: 8:54, ETA: 1:03:58\n",
            "2000/8186 = 24.4%, SPS: 1.9, ELAP: 17:19, ETA: 53:33\n",
            "3000/8186 = 36.6%, SPS: 2.0, ELAP: 25:06, ETA: 43:23\n",
            "4000/8186 = 48.9%, SPS: 2.0, ELAP: 33:26, ETA: 34:59\n",
            "5000/8186 = 61.1%, SPS: 2.0, ELAP: 41:13, ETA: 26:16\n",
            "6000/8186 = 73.3%, SPS: 2.0, ELAP: 49:28, ETA: 18:02\n",
            "7000/8186 = 85.5%, SPS: 2.0, ELAP: 57:17, ETA: 9:42\n",
            "8000/8186 = 97.7%, SPS: 2.0, ELAP: 1:05:39, ETA: 1:32\n",
            "\n",
            "================================================================================\n",
            "Run dev set evaluation: model=ELECTRA-SQuAD2.0-Large, trial 1/1\n",
            "================================================================================\n",
            "Evaluating squad\n",
            "Loading dataset squad_dev\n",
            "11873 examples created, 0 failures\n",
            "Building model...\n",
            "Building complete\n",
            "squad: HasAns_exact: 79.81 - HasAns_f1: 85.12 - HasAns_total: 5928.00 - NoAns_exact: 91.03 - NoAns_f1: 91.03 - NoAns_total: 5945.00 - best_exact: 85.53 - best_exact_thresh: -2.42 - best_f1: 88.22 - best_f1_thresh: -2.42 - exact: 85.43 - f1: 88.08 - total: 11873.00\n",
            "\n",
            "Writing results to gs://biom-transformers/ELECTRA/models/ELECTRA-SQuAD2.0-Large/results/squad_results.txt\n"
          ],
          "name": "stdout"
        }
      ]
    },
    {
      "cell_type": "markdown",
      "metadata": {
        "id": "AtyFRyUdM7NN"
      },
      "source": [
        "# **Pre-Processing BioASQ dataset**"
      ]
    },
    {
      "cell_type": "markdown",
      "metadata": {
        "id": "076INMY1Y8Rd"
      },
      "source": [
        "Upload the pre-processed dataset of of BioASQ from this page https://github.com/dmis-lab/biobert to this notebook.\n",
        "Look for \"Question Answering: (5.23 MB)."
      ]
    },
    {
      "cell_type": "code",
      "metadata": {
        "colab": {
          "base_uri": "https://localhost:8080/"
        },
        "id": "-D1BIBLkm_Lb",
        "outputId": "74c39dff-e312-476d-85f7-717718be7667"
      },
      "source": [
        "!unzip /content/BioASQ-67b-15Oct2019.zip"
      ],
      "execution_count": null,
      "outputs": [
        {
          "output_type": "stream",
          "text": [
            "Archive:  /content/BioASQ-67b-15Oct2019.zip\n",
            "   creating: BioASQ-6b/\n",
            "   creating: BioASQ-6b/test/\n",
            "   creating: BioASQ-6b/test/Appended-Snippet/\n",
            "  inflating: BioASQ-6b/test/Appended-Snippet/BioASQ-test-factoid-6b-snippet-1-2sent.json  \n",
            "  inflating: BioASQ-6b/test/Appended-Snippet/BioASQ-test-factoid-6b-snippet-2-2sent.json  \n",
            "  inflating: BioASQ-6b/test/Appended-Snippet/BioASQ-test-factoid-6b-snippet-3-2sent.json  \n",
            "  inflating: BioASQ-6b/test/Appended-Snippet/BioASQ-test-factoid-6b-snippet-4-2sent.json  \n",
            "  inflating: BioASQ-6b/test/Appended-Snippet/BioASQ-test-factoid-6b-snippet-5-2sent.json  \n",
            "  inflating: BioASQ-6b/test/Appended-Snippet/BioASQ-test-list-6b-snippet-1-2sent.json  \n",
            "  inflating: BioASQ-6b/test/Appended-Snippet/BioASQ-test-list-6b-snippet-2-2sent.json  \n",
            "  inflating: BioASQ-6b/test/Appended-Snippet/BioASQ-test-list-6b-snippet-3-2sent.json  \n",
            "  inflating: BioASQ-6b/test/Appended-Snippet/BioASQ-test-list-6b-snippet-4-2sent.json  \n",
            "  inflating: BioASQ-6b/test/Appended-Snippet/BioASQ-test-list-6b-snippet-5-2sent.json  \n",
            "  inflating: BioASQ-6b/test/Appended-Snippet/BioASQ-test-yesno-6b-snippet-1-2sent.json  \n",
            "  inflating: BioASQ-6b/test/Appended-Snippet/BioASQ-test-yesno-6b-snippet-2-2sent.json  \n",
            "  inflating: BioASQ-6b/test/Appended-Snippet/BioASQ-test-yesno-6b-snippet-3-2sent.json  \n",
            "  inflating: BioASQ-6b/test/Appended-Snippet/BioASQ-test-yesno-6b-snippet-4-2sent.json  \n",
            "  inflating: BioASQ-6b/test/Appended-Snippet/BioASQ-test-yesno-6b-snippet-5-2sent.json  \n",
            "   creating: BioASQ-6b/test/Full-Abstract/\n",
            "  inflating: BioASQ-6b/test/Full-Abstract/BioASQ-test-factoid-6b-1.json  \n",
            "  inflating: BioASQ-6b/test/Full-Abstract/BioASQ-test-factoid-6b-2.json  \n",
            "  inflating: BioASQ-6b/test/Full-Abstract/BioASQ-test-factoid-6b-3.json  \n",
            "  inflating: BioASQ-6b/test/Full-Abstract/BioASQ-test-factoid-6b-4.json  \n",
            "  inflating: BioASQ-6b/test/Full-Abstract/BioASQ-test-factoid-6b-5.json  \n",
            "  inflating: BioASQ-6b/test/Full-Abstract/BioASQ-test-list-6b-1.json  \n",
            "  inflating: BioASQ-6b/test/Full-Abstract/BioASQ-test-list-6b-2.json  \n",
            "  inflating: BioASQ-6b/test/Full-Abstract/BioASQ-test-list-6b-3.json  \n",
            "  inflating: BioASQ-6b/test/Full-Abstract/BioASQ-test-list-6b-4.json  \n",
            "  inflating: BioASQ-6b/test/Full-Abstract/BioASQ-test-list-6b-5.json  \n",
            "  inflating: BioASQ-6b/test/Full-Abstract/BioASQ-test-yesno-6b-1.json  \n",
            "  inflating: BioASQ-6b/test/Full-Abstract/BioASQ-test-yesno-6b-2.json  \n",
            "  inflating: BioASQ-6b/test/Full-Abstract/BioASQ-test-yesno-6b-3.json  \n",
            "  inflating: BioASQ-6b/test/Full-Abstract/BioASQ-test-yesno-6b-4.json  \n",
            "  inflating: BioASQ-6b/test/Full-Abstract/BioASQ-test-yesno-6b-5.json  \n",
            "   creating: BioASQ-6b/test/Snippet-as-is/\n",
            "  inflating: BioASQ-6b/test/Snippet-as-is/BioASQ-test-factoid-6b-1-snippet.json  \n",
            "  inflating: BioASQ-6b/test/Snippet-as-is/BioASQ-test-factoid-6b-2-snippet.json  \n",
            "  inflating: BioASQ-6b/test/Snippet-as-is/BioASQ-test-factoid-6b-3-snippet.json  \n",
            "  inflating: BioASQ-6b/test/Snippet-as-is/BioASQ-test-factoid-6b-4-snippet.json  \n",
            "  inflating: BioASQ-6b/test/Snippet-as-is/BioASQ-test-factoid-6b-5-snippet.json  \n",
            "  inflating: BioASQ-6b/test/Snippet-as-is/BioASQ-test-list-6b-1-snippet.json  \n",
            "  inflating: BioASQ-6b/test/Snippet-as-is/BioASQ-test-list-6b-2-snippet.json  \n",
            "  inflating: BioASQ-6b/test/Snippet-as-is/BioASQ-test-list-6b-3-snippet.json  \n",
            "  inflating: BioASQ-6b/test/Snippet-as-is/BioASQ-test-list-6b-4-snippet.json  \n",
            "  inflating: BioASQ-6b/test/Snippet-as-is/BioASQ-test-list-6b-5-snippet.json  \n",
            "  inflating: BioASQ-6b/test/Snippet-as-is/BioASQ-test-yesno-6b-1-snippet.json  \n",
            "  inflating: BioASQ-6b/test/Snippet-as-is/BioASQ-test-yesno-6b-2-snippet.json  \n",
            "  inflating: BioASQ-6b/test/Snippet-as-is/BioASQ-test-yesno-6b-3-snippet.json  \n",
            "  inflating: BioASQ-6b/test/Snippet-as-is/BioASQ-test-yesno-6b-4-snippet.json  \n",
            "  inflating: BioASQ-6b/test/Snippet-as-is/BioASQ-test-yesno-6b-5-snippet.json  \n",
            "  inflating: BioASQ-6b/test/Snippet-as-is/BioASQ-test-yesno-6b-snippet-all.json  \n",
            " extracting: BioASQ-6b/test/Snippet-as-is/need to double check.txt  \n",
            "   creating: BioASQ-6b/train/\n",
            "   creating: BioASQ-6b/train/Appended-Snippet/\n",
            "  inflating: BioASQ-6b/train/Appended-Snippet/BioASQ-train-factoid-6b-snippet-2sent.json  \n",
            "  inflating: BioASQ-6b/train/Appended-Snippet/BioASQ-train-list-6b-snippet-2sent.json  \n",
            "  inflating: BioASQ-6b/train/Appended-Snippet/BioASQ-train-yesno-6b-snippet-2sent.json  \n",
            "   creating: BioASQ-6b/train/Full-Abstract/\n",
            "  inflating: BioASQ-6b/train/Full-Abstract/BioASQ-train-factoid-6b-full-annotated.json  \n",
            "  inflating: BioASQ-6b/train/Full-Abstract/BioASQ-train-list-6b-full-annotated.json  \n",
            "  inflating: BioASQ-6b/train/Full-Abstract/BioASQ-train-yesno-6b.json  \n",
            "   creating: BioASQ-6b/train/Snippet-as-is/\n",
            "  inflating: BioASQ-6b/train/Snippet-as-is/BioASQ-train-factoid-6b-snippet-annotated.json  \n",
            "  inflating: BioASQ-6b/train/Snippet-as-is/BioASQ-train-list-6b-snippet-annotated.json  \n",
            "  inflating: BioASQ-6b/train/Snippet-as-is/BioASQ-train-yesno-6b-snippet.json  \n",
            "   creating: BioASQ-7b/\n",
            "  inflating: BioASQ-7b/README.txt    \n",
            "   creating: BioASQ-7b/test/\n",
            "   creating: BioASQ-7b/test/Appended-Snippet/\n",
            "  inflating: BioASQ-7b/test/Appended-Snippet/BioASQ-test-factoid-7b-1-snippet-2sent.json  \n",
            "  inflating: BioASQ-7b/test/Appended-Snippet/BioASQ-test-factoid-7b-2-snippet-2sent.json  \n",
            "  inflating: BioASQ-7b/test/Appended-Snippet/BioASQ-test-factoid-7b-3-snippet-2sent.json  \n",
            "  inflating: BioASQ-7b/test/Appended-Snippet/BioASQ-test-factoid-7b-4-snippet-2sent.json  \n",
            "  inflating: BioASQ-7b/test/Appended-Snippet/BioASQ-test-factoid-7b-5-snippet-2sent.json  \n",
            "  inflating: BioASQ-7b/test/Appended-Snippet/BioASQ-test-list-7b-1-snippet-2sent.json  \n",
            "  inflating: BioASQ-7b/test/Appended-Snippet/BioASQ-test-list-7b-2-snippet-2sent.json  \n",
            "  inflating: BioASQ-7b/test/Appended-Snippet/BioASQ-test-list-7b-3-snippet-2sent.json  \n",
            "  inflating: BioASQ-7b/test/Appended-Snippet/BioASQ-test-list-7b-4-snippet-2sent.json  \n",
            "  inflating: BioASQ-7b/test/Appended-Snippet/BioASQ-test-list-7b-5-snippet-2sent.json  \n",
            "  inflating: BioASQ-7b/test/Appended-Snippet/BioASQ-test-yesno-7b-1-snippet-2sent.json  \n",
            "  inflating: BioASQ-7b/test/Appended-Snippet/BioASQ-test-yesno-7b-2-snippet-2sent.json  \n",
            "  inflating: BioASQ-7b/test/Appended-Snippet/BioASQ-test-yesno-7b-3-snippet-2sent.json  \n",
            "  inflating: BioASQ-7b/test/Appended-Snippet/BioASQ-test-yesno-7b-4-snippet-2sent.json  \n",
            "  inflating: BioASQ-7b/test/Appended-Snippet/BioASQ-test-yesno-7b-5-snippet-2sent.json  \n",
            "   creating: BioASQ-7b/test/Full-Abstract/\n",
            "  inflating: BioASQ-7b/test/Full-Abstract/BioASQ-test-factoid-7b-1.json  \n",
            "  inflating: BioASQ-7b/test/Full-Abstract/BioASQ-test-factoid-7b-2.json  \n",
            "  inflating: BioASQ-7b/test/Full-Abstract/BioASQ-test-factoid-7b-3.json  \n",
            "  inflating: BioASQ-7b/test/Full-Abstract/BioASQ-test-factoid-7b-4.json  \n",
            "  inflating: BioASQ-7b/test/Full-Abstract/BioASQ-test-factoid-7b-5.json  \n",
            "  inflating: BioASQ-7b/test/Full-Abstract/BioASQ-test-list-7b-1.json  \n",
            "  inflating: BioASQ-7b/test/Full-Abstract/BioASQ-test-list-7b-2.json  \n",
            "  inflating: BioASQ-7b/test/Full-Abstract/BioASQ-test-list-7b-3.json  \n",
            "  inflating: BioASQ-7b/test/Full-Abstract/BioASQ-test-list-7b-4.json  \n",
            "  inflating: BioASQ-7b/test/Full-Abstract/BioASQ-test-list-7b-5.json  \n",
            "  inflating: BioASQ-7b/test/Full-Abstract/BioASQ-test-yesno-7b-1.json  \n",
            "  inflating: BioASQ-7b/test/Full-Abstract/BioASQ-test-yesno-7b-2.json  \n",
            "  inflating: BioASQ-7b/test/Full-Abstract/BioASQ-test-yesno-7b-3.json  \n",
            "  inflating: BioASQ-7b/test/Full-Abstract/BioASQ-test-yesno-7b-4.json  \n",
            "  inflating: BioASQ-7b/test/Full-Abstract/BioASQ-test-yesno-7b-5.json  \n",
            "   creating: BioASQ-7b/test/Snippet-as-is/\n",
            "  inflating: BioASQ-7b/test/Snippet-as-is/BioASQ-test-factoid-7b-2-snippet.json  \n",
            "  inflating: BioASQ-7b/test/Snippet-as-is/BioASQ-test-factoid-7b-3-snippet.json  \n",
            "  inflating: BioASQ-7b/test/Snippet-as-is/BioASQ-test-factoid-7b-4-snippet.json  \n",
            "  inflating: BioASQ-7b/test/Snippet-as-is/BioASQ-test-factoid-7b-5-snippet.json  \n",
            "  inflating: BioASQ-7b/test/Snippet-as-is/BioASQ-test-list-7b-2-snippet.json  \n",
            "  inflating: BioASQ-7b/test/Snippet-as-is/BioASQ-test-list-7b-3-snippet.json  \n",
            "  inflating: BioASQ-7b/test/Snippet-as-is/BioASQ-test-list-7b-4-snippet.json  \n",
            "  inflating: BioASQ-7b/test/Snippet-as-is/BioASQ-test-list-7b-5-snippet.json  \n",
            "  inflating: BioASQ-7b/test/Snippet-as-is/BioASQ-test-yesno-7b-2-snippet.json  \n",
            "  inflating: BioASQ-7b/test/Snippet-as-is/BioASQ-test-yesno-7b-3-snippet.json  \n",
            "  inflating: BioASQ-7b/test/Snippet-as-is/BioASQ-test-yesno-7b-4-snippet.json  \n",
            "  inflating: BioASQ-7b/test/Snippet-as-is/BioASQ-test-yesno-7b-5-snippet.json  \n",
            "   creating: BioASQ-7b/train/\n",
            "   creating: BioASQ-7b/train/Appended-Snippet/\n",
            "  inflating: BioASQ-7b/train/Appended-Snippet/BioASQ-train-factoid-7b-snippet-2sent.json  \n",
            "  inflating: BioASQ-7b/train/Appended-Snippet/BioASQ-train-list-7b-snippet-2sent.json  \n",
            "  inflating: BioASQ-7b/train/Appended-Snippet/BioASQ-train-yesno-7b-snippet-2sent.json  \n",
            "   creating: BioASQ-7b/train/Full-Abstract/\n",
            "  inflating: BioASQ-7b/train/Full-Abstract/BioASQ-train-factoid-7b-full-annotated.json  \n",
            "  inflating: BioASQ-7b/train/Full-Abstract/BioASQ-train-list-7b-full-annotated.json  \n",
            "  inflating: BioASQ-7b/train/Full-Abstract/BioASQ-train-yesno-7b.json  \n",
            "   creating: BioASQ-7b/train/Snippet-as-is/\n",
            "  inflating: BioASQ-7b/train/Snippet-as-is/BioASQ-train-factoid-7b-snippet-annotated.json  \n",
            "  inflating: BioASQ-7b/train/Snippet-as-is/BioASQ-train-list-7b-snippet-annotated.json  \n",
            "  inflating: BioASQ-7b/train/Snippet-as-is/BioASQ-train-yesno-7b-snippet.json  \n"
          ],
          "name": "stdout"
        }
      ]
    },
    {
      "cell_type": "code",
      "metadata": {
        "colab": {
          "base_uri": "https://localhost:8080/"
        },
        "id": "3NjwBr37vjHe",
        "outputId": "025ff132-2d93-4b09-89e8-1ecba65951fc"
      },
      "source": [
        "!unzip /content/Task7BGoldenEnriched.zip"
      ],
      "execution_count": null,
      "outputs": [
        {
          "output_type": "stream",
          "text": [
            "Archive:  /content/Task7BGoldenEnriched.zip\n",
            "   creating: Task7BGoldenEnriched/\n",
            "  inflating: Task7BGoldenEnriched/7B1_golden.json  \n",
            "  inflating: Task7BGoldenEnriched/7B2_golden.json  \n",
            "  inflating: Task7BGoldenEnriched/7B3_golden.json  \n",
            "  inflating: Task7BGoldenEnriched/7B4_golden.json  \n",
            "  inflating: Task7BGoldenEnriched/7B5_golden.json  \n"
          ],
          "name": "stdout"
        }
      ]
    },
    {
      "cell_type": "markdown",
      "metadata": {
        "id": "Mh5v8MXiZXno"
      },
      "source": [
        "Here we are copying the dataset to our bucket. You need to maintain this path finetuning_data/bioasq-squadv2/test[1-5].json"
      ]
    },
    {
      "cell_type": "code",
      "metadata": {
        "colab": {
          "base_uri": "https://localhost:8080/"
        },
        "id": "dGsZkJHu_SWn",
        "outputId": "ad061088-b773-485b-806e-48b75d63f220"
      },
      "source": [
        "!gsutil cp BioASQ-7b/train/Full-Abstract/BioASQ-train-factoid-7b-full-annotated.json gs://biom-transformers/ELECTRA/finetuning_data/bioasq-squadv2/train.json\n",
        "!gsutil cp /content/BioASQ-7b/test/Full-Abstract/BioASQ-test-factoid-7b-1.json gs://biom-transformers/ELECTRA/finetuning_data/bioasq-squadv2/test1.json\n",
        "!gsutil cp /content/BioASQ-7b/test/Full-Abstract/BioASQ-test-factoid-7b-2.json gs://biom-transformers/ELECTRA/finetuning_data/bioasq-squadv2/test2.json\n",
        "!gsutil cp /content/BioASQ-7b/test/Full-Abstract/BioASQ-test-factoid-7b-3.json gs://biom-transformers/ELECTRA/finetuning_data/bioasq-squadv2/test3.json\n",
        "!gsutil cp /content/BioASQ-7b/test/Full-Abstract/BioASQ-test-factoid-7b-4.json gs://biom-transformers/ELECTRA/finetuning_data/bioasq-squadv2/test4.json\n",
        "!gsutil cp /content/BioASQ-7b/test/Full-Abstract/BioASQ-test-factoid-7b-5.json gs://biom-transformers/ELECTRA/finetuning_data/bioasq-squadv2/test5.json"
      ],
      "execution_count": null,
      "outputs": [
        {
          "output_type": "stream",
          "text": [
            "Copying file://BioASQ-7b/train/Full-Abstract/BioASQ-train-factoid-7b-full-annotated.json [Content-Type=application/json]...\n",
            "/ [1 files][ 10.4 MiB/ 10.4 MiB]                                                \n",
            "Operation completed over 1 objects/10.4 MiB.                                     \n",
            "Copying file:///content/BioASQ-7b/test/Full-Abstract/BioASQ-test-factoid-7b-1.json [Content-Type=application/json]...\n",
            "/ [1 files][159.8 KiB/159.8 KiB]                                                \n",
            "Operation completed over 1 objects/159.8 KiB.                                    \n",
            "Copying file:///content/BioASQ-7b/test/Full-Abstract/BioASQ-test-factoid-7b-2.json [Content-Type=application/json]...\n",
            "/ [1 files][104.8 KiB/104.8 KiB]                                                \n",
            "Operation completed over 1 objects/104.8 KiB.                                    \n",
            "Copying file:///content/BioASQ-7b/test/Full-Abstract/BioASQ-test-factoid-7b-3.json [Content-Type=application/json]...\n",
            "/ [1 files][151.1 KiB/151.1 KiB]                                                \n",
            "Operation completed over 1 objects/151.1 KiB.                                    \n",
            "Copying file:///content/BioASQ-7b/test/Full-Abstract/BioASQ-test-factoid-7b-4.json [Content-Type=application/json]...\n",
            "/ [1 files][158.1 KiB/158.1 KiB]                                                \n",
            "Operation completed over 1 objects/158.1 KiB.                                    \n",
            "Copying file:///content/BioASQ-7b/test/Full-Abstract/BioASQ-test-factoid-7b-5.json [Content-Type=application/json]...\n",
            "/ [1 files][136.9 KiB/136.9 KiB]                                                \n",
            "Operation completed over 1 objects/136.9 KiB.                                    \n"
          ],
          "name": "stdout"
        }
      ]
    },
    {
      "cell_type": "code",
      "metadata": {
        "id": "A_kMRc8h_mB_"
      },
      "source": [
        "!mkdir  temp \n",
        "!mkdir  temp/preds/ \n",
        "!mkdir  temp/out/"
      ],
      "execution_count": null,
      "outputs": []
    },
    {
      "cell_type": "markdown",
      "metadata": {
        "id": "4MPocZiGC7EO"
      },
      "source": [
        "# **Training and Testing BioM-ELECTRA-Large-SQuAD on BioASQ7B**"
      ]
    },
    {
      "cell_type": "markdown",
      "metadata": {
        "id": "OXz5W82VHqbA"
      },
      "source": [
        "Here we are using the checkpoint that we fine-tuned early on SQuAD2.0 task . Choose the path to this checkpoint+vocab file using init_checkpoint and vocab_file variables ."
      ]
    },
    {
      "cell_type": "code",
      "metadata": {
        "colab": {
          "base_uri": "https://localhost:8080/"
        },
        "id": "7DL9W52oM7NT",
        "outputId": "aba7e56d-c07b-4f45-f565-eb65d60191d3"
      },
      "source": [
        "!python BioM-Transformers/electra/run_finetuning.py --data-dir gs://biom-transformers/ELECTRA/ --model-name ELECTRA-BioASQ7B-Large --hparams '{\"model_size\": \"large\", \"task_names\": [\"bioasq-squadv2\"],\"do_train\":true,\"do_eval\":false,\"evaluate_bioasq\":true,\"learning_rate\":2e-5 ,\"vocab_file\":\"gs://biom-transformers/ELECTRA/models/BioM-ELECTRA-TF-SQuAD2.0/vocab.txt\",\"vocab_size\":28895,\"train_batch_size\":24,\"num_train_epochs\":4,\"init_checkpoint\":\"gs://biom-transformers/ELECTRA/models/BioM-ELECTRA-TF-SQuAD2.0/model.ckpt-8186\",\"num_tpu_cores\":8,\"use_tpu\":true,\"tpu_name\":\"'$TPU_ADDRESS'\",\"save_checkpoints_steps\":10000}'"
      ],
      "execution_count": null,
      "outputs": [
        {
          "output_type": "stream",
          "text": [
            "================================================================================\n",
            "Config: model=ELECTRA-BioASQ7B-Large, trial 1/1\n",
            "================================================================================\n",
            "answerable_classifier True\n",
            "answerable_uses_start_logits True\n",
            "answerable_weight 0.5\n",
            "beam_size 20\n",
            "data_dir gs://biom-transformers/ELECTRA/\n",
            "debug False\n",
            "do_eval False\n",
            "do_lower_case True\n",
            "do_test False\n",
            "do_train True\n",
            "doc_stride 128\n",
            "double_unordered True\n",
            "embedding_size None\n",
            "eval_batch_size 32\n",
            "evaluate_bioasq True\n",
            "gcp_project None\n",
            "init_checkpoint gs://biom-transformers/ELECTRA/models/BioM-ELECTRA-TF-SQuAD2.0/model.ckpt-8186\n",
            "iterations_per_loop 1000\n",
            "joint_prediction True\n",
            "keep_all_models True\n",
            "layerwise_lr_decay 0.9\n",
            "learning_rate 2e-05\n",
            "log_examples False\n",
            "max_answer_length 30\n",
            "max_query_length 64\n",
            "max_seq_length 512\n",
            "model_dir gs://biom-transformers/ELECTRA/models/ELECTRA-BioASQ7B-Large/finetuning_models/bioasq-squadv2_model\n",
            "model_hparam_overrides {}\n",
            "model_name ELECTRA-BioASQ7B-Large\n",
            "model_size large\n",
            "n_best_size 20\n",
            "n_writes_test 5\n",
            "num_tpu_cores 8\n",
            "num_train_epochs 4\n",
            "num_trials 1\n",
            "predict_batch_size 32\n",
            "preprocessed_data_dir gs://biom-transformers/ELECTRA/models/ELECTRA-BioASQ7B-Large/finetuning_tfrecords/bioasq-squadv2_tfrecords\n",
            "qa_eval_file <built-in method format of str object at 0x7fdeb0d4fcb0>\n",
            "qa_na_file <built-in method format of str object at 0x7fdeb0d4fdf0>\n",
            "qa_na_threshold -2.75\n",
            "qa_nbest_file <built-in method format of str object at 0x7fdeb0d4fe90>\n",
            "qa_preds_file <built-in method format of str object at 0x7fdeb0d4fd50>\n",
            "raw_data_dir <built-in method format of str object at 0x7fdeb9598c00>\n",
            "results_pkl gs://biom-transformers/ELECTRA/models/ELECTRA-BioASQ7B-Large/results/bioasq-squadv2_results.pkl\n",
            "results_txt gs://biom-transformers/ELECTRA/models/ELECTRA-BioASQ7B-Large/results/bioasq-squadv2_results.txt\n",
            "save_checkpoints_steps 10000\n",
            "task_names ['bioasq-squadv2']\n",
            "test_predictions <built-in method format of str object at 0x7fdeb95a40d0>\n",
            "tpu_job_name None\n",
            "tpu_name grpc://10.112.176.186:8470\n",
            "tpu_zone None\n",
            "train_batch_size 24\n",
            "use_tfrecords_if_existing True\n",
            "use_tpu True\n",
            "vocab_file gs://biom-transformers/ELECTRA/models/BioM-ELECTRA-TF-SQuAD2.0/vocab.txt\n",
            "vocab_size 28895\n",
            "warmup_proportion 0.1\n",
            "weight_decay_rate 0.01\n",
            "write_distill_outputs False\n",
            "write_test_outputs False\n",
            "\n",
            "Loading dataset bioasq-squadv2_train\n",
            "Existing tfrecords not found so creating\n",
            "5537 examples created, 0 failures\n",
            "Writing example 0 of 5537\n",
            "Writing example 2000 of 5537\n",
            "Writing example 4000 of 5537\n",
            "================================================================================\n",
            "Start training: model=ELECTRA-BioASQ7B-Large, trial 1/1\n",
            "================================================================================\n",
            "Training for 984 steps\n",
            "2021-06-22 00:24:38.631987: W tensorflow/core/distributed_runtime/rpc/grpc_session.cc:370] GrpcSession::ListDevices will initialize the session with an empty graph and other defaults because the session has not yet been created.\n",
            "2021-06-22 00:24:38.771854: I tensorflow/stream_executor/platform/default/dso_loader.cc:44] Successfully opened dynamic library libcuda.so.1\n",
            "2021-06-22 00:24:38.781882: E tensorflow/stream_executor/cuda/cuda_driver.cc:318] failed call to cuInit: CUDA_ERROR_NO_DEVICE: no CUDA-capable device is detected\n",
            "2021-06-22 00:24:38.781939: I tensorflow/stream_executor/cuda/cuda_diagnostics.cc:156] kernel driver does not appear to be running on this host (1ac70f6b2d80): /proc/driver/nvidia/version does not exist\n",
            "Building model...\n",
            "Building complete\n",
            "2021-06-22 00:26:25.626508: W tensorflow/core/distributed_runtime/rpc/grpc_session.cc:370] GrpcSession::ListDevices will initialize the session with an empty graph and other defaults because the session has not yet been created.\n",
            "\n",
            "Evaluating bioasq-squadv2\n",
            "Loading dataset bioasq-squadv2_test1\n",
            "Existing tfrecords not found so creating\n",
            "98 examples created, 0 failures\n",
            "Writing example 0 of 98\n",
            "Building model...\n",
            "Building complete\n",
            "Evaluating bioasq-squadv2\n",
            "Loading dataset bioasq-squadv2_test2\n",
            "Existing tfrecords not found so creating\n",
            "56 examples created, 0 failures\n",
            "Writing example 0 of 56\n",
            "Building model...\n",
            "Building complete\n",
            "Evaluating bioasq-squadv2\n",
            "Loading dataset bioasq-squadv2_test3\n",
            "Existing tfrecords not found so creating\n",
            "84 examples created, 0 failures\n",
            "Writing example 0 of 84\n",
            "Building model...\n",
            "Building complete\n",
            "Evaluating bioasq-squadv2\n",
            "Loading dataset bioasq-squadv2_test4\n",
            "Existing tfrecords not found so creating\n",
            "90 examples created, 0 failures\n",
            "Writing example 0 of 90\n",
            "Building model...\n",
            "Building complete\n",
            "Evaluating bioasq-squadv2\n",
            "Loading dataset bioasq-squadv2_test5\n",
            "Existing tfrecords not found so creating\n",
            "79 examples created, 0 failures\n",
            "Writing example 0 of 79\n",
            "Building model...\n",
            "Building complete\n"
          ],
          "name": "stdout"
        }
      ]
    },
    {
      "cell_type": "code",
      "metadata": {
        "colab": {
          "base_uri": "https://localhost:8080/"
        },
        "id": "XYk9lOzaM7NT",
        "outputId": "3d4d2276-1d86-4adb-adcc-32c4adb152e4"
      },
      "source": [
        "%%shell\n",
        "rm  temp/* >/dev/null 2>&1\n",
        "rm  temp/*/* >/dev/null 2>&1\n",
        "echo \"Result of BioASQ on Five Different Batches\"\n",
        "echo \"Strict   Lenient   MRR\"\n",
        "for i in 1 2 3 4 5;\n",
        "do rm temp/out/* >/dev/null 2>&1;\n",
        "gsutil -q cp gs://biom-transformers/ELECTRA/models/ELECTRA-BioASQ7B-Large/results/bioasq-squadv2_qa/bioasq-squadv2-test\"$i\"_nbest.json temp/preds;\n",
        "python3 biobert/biocodes/transform_nbset2bioasqform.py --nbest_path=temp/preds/bioasq-squadv2-test\"$i\"_nbest.json --output_path=temp/out;java -Xmx10G -cp $CLASSPATH:Evaluation-Measures/flat/BioASQEvaluation/dist/BioASQEvaluation.jar evaluation.EvaluatorTask1b -phaseB -e 5 Task7BGoldenEnriched/7B\"$i\"_golden.json temp/out/BioASQform_BioASQ-answer.json | awk '{printf \"%.2f    %.2f     %.2f\\n\", $2*100, $3*100, $4*100}';\n",
        "done;"
      ],
      "execution_count": null,
      "outputs": [
        {
          "output_type": "stream",
          "text": [
            "Result of BioASQ on Five Different Batches\n",
            "Strict   Lenient   MRR\n",
            "51.28    56.41     53.08\n",
            "56.00    64.00     59.00\n",
            "41.38    51.72     45.98\n",
            "64.71    82.35     72.55\n",
            "37.14    51.43     42.62\n"
          ],
          "name": "stdout"
        },
        {
          "output_type": "execute_result",
          "data": {
            "text/plain": [
              ""
            ]
          },
          "metadata": {
            "tags": []
          },
          "execution_count": 13
        }
      ]
    },
    {
      "cell_type": "markdown",
      "metadata": {
        "id": "zxG66APuhLIS"
      },
      "source": [
        "If you want to see BioASQ predictions for each patch go to temp/preds"
      ]
    }
  ]
}